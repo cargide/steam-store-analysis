{
 "cells": [
  {
   "cell_type": "markdown",
   "id": "902ac4fa",
   "metadata": {},
   "source": [
    "# Intro\n",
    "placeholder"
   ]
  },
  {
   "cell_type": "markdown",
   "id": "127cf115",
   "metadata": {},
   "source": [
    "# Imports"
   ]
  },
  {
   "cell_type": "code",
   "execution_count": 1,
   "id": "fef26c4c",
   "metadata": {},
   "outputs": [],
   "source": [
    "# standard library imports\n",
    "import csv\n",
    "import datetime as dt\n",
    "import json\n",
    "import os\n",
    "import statistics\n",
    "import time\n",
    "\n",
    "# third-party imports\n",
    "import numpy as np\n",
    "import pandas as pd\n",
    "import requests\n",
    "\n",
    "# customisations - ensure tables show all columns\n",
    "pd.set_option(\"max_columns\", 100)"
   ]
  },
  {
   "cell_type": "markdown",
   "id": "98cc7e06",
   "metadata": {},
   "source": [
    "# Get data\n",
    "## 1) Create list of games\n",
    "The API for SteamSpy (https://steamspy.com/api.php) can only return pages of 1000 results when the request is for 'all', so I need to loop the requests to get more than one page.  "
   ]
  },
  {
   "cell_type": "code",
   "execution_count": 2,
   "id": "7fdd8d5f",
   "metadata": {},
   "outputs": [],
   "source": [
    "def get_request(url, parameters=None):\n",
    "    \"\"\"Return json-formatted response of a get request using optional parameters.\n",
    "    \n",
    "    Parameters\n",
    "    ----------\n",
    "    url : string\n",
    "    parameters : {'parameter': 'value'}\n",
    "        parameters to pass as part of get request\n",
    "    \n",
    "    Returns\n",
    "    -------\n",
    "    json_data\n",
    "        json-formatted response (dict-like)\n",
    "    \"\"\"\n",
    "    try:\n",
    "        response = requests.get(url=url, params=parameters)\n",
    "    except SSLError as s:\n",
    "        print('SSL Error:', s)\n",
    "        \n",
    "        for i in range(5, 0, -1):\n",
    "            print('\\rWaiting... ({})'.format(i), end='')\n",
    "            time.sleep(1)\n",
    "        print('\\rRetrying.' + ' '*10)\n",
    "        \n",
    "        # recusively try again\n",
    "        return get_request(url, parameters)\n",
    "    \n",
    "    if response:\n",
    "        return response.json()\n",
    "    else:\n",
    "        # response is none usually means too many requests. Wait and try again \n",
    "        print('No response, waiting 10 seconds...')\n",
    "        time.sleep(10)\n",
    "        print('Retrying.')\n",
    "        return get_request(url, parameters)"
   ]
  },
  {
   "cell_type": "markdown",
   "id": "e99b23f0",
   "metadata": {},
   "source": [
    "To get a mangable amount of useful information, I limit the requests to 35 pages, as anything over that has to little owners to be of use.  \n",
    "Also, the columns returned by the call are not enough, so I limit the results to store the IDs and the names of the games."
   ]
  },
  {
   "cell_type": "code",
   "execution_count": 19,
   "id": "cf471c54",
   "metadata": {},
   "outputs": [],
   "source": [
    "def request_pages():\n",
    "    pre_app_list=[0]*35\n",
    "    #Due to the amount of games in the Steam store, I limit the call to the 35000 more ownded games\n",
    "    for i in range(0,35):\n",
    "        url = \"https://steamspy.com/api.php?request=all&page=\"+str(i)\n",
    "        json_data = get_request(url)\n",
    "        steam_spy_all = pd.DataFrame.from_dict(json_data, orient='index')\n",
    "        pre_app_list[i] = steam_spy_all[['appid', 'name']].sort_values('appid').reset_index(drop=True)\n",
    "        \n",
    "    \n",
    "    app_list = pd.concat(pre_app_list).reset_index(drop=True)\n",
    "    return app_list"
   ]
  },
  {
   "cell_type": "code",
   "execution_count": 20,
   "id": "e3da122d",
   "metadata": {},
   "outputs": [],
   "source": [
    "games_list = request_pages()\n"
   ]
  },
  {
   "cell_type": "code",
   "execution_count": 21,
   "id": "44bcd4ab",
   "metadata": {},
   "outputs": [
    {
     "data": {
      "text/html": [
       "<div>\n",
       "<style scoped>\n",
       "    .dataframe tbody tr th:only-of-type {\n",
       "        vertical-align: middle;\n",
       "    }\n",
       "\n",
       "    .dataframe tbody tr th {\n",
       "        vertical-align: top;\n",
       "    }\n",
       "\n",
       "    .dataframe thead th {\n",
       "        text-align: right;\n",
       "    }\n",
       "</style>\n",
       "<table border=\"1\" class=\"dataframe\">\n",
       "  <thead>\n",
       "    <tr style=\"text-align: right;\">\n",
       "      <th></th>\n",
       "      <th>appid</th>\n",
       "      <th>name</th>\n",
       "    </tr>\n",
       "  </thead>\n",
       "  <tbody>\n",
       "    <tr>\n",
       "      <th>0</th>\n",
       "      <td>10</td>\n",
       "      <td>Counter-Strike</td>\n",
       "    </tr>\n",
       "    <tr>\n",
       "      <th>1</th>\n",
       "      <td>20</td>\n",
       "      <td>Team Fortress Classic</td>\n",
       "    </tr>\n",
       "    <tr>\n",
       "      <th>2</th>\n",
       "      <td>30</td>\n",
       "      <td>Day of Defeat</td>\n",
       "    </tr>\n",
       "    <tr>\n",
       "      <th>3</th>\n",
       "      <td>40</td>\n",
       "      <td>Deathmatch Classic</td>\n",
       "    </tr>\n",
       "    <tr>\n",
       "      <th>4</th>\n",
       "      <td>50</td>\n",
       "      <td>Half-Life: Opposing Force</td>\n",
       "    </tr>\n",
       "    <tr>\n",
       "      <th>...</th>\n",
       "      <td>...</td>\n",
       "      <td>...</td>\n",
       "    </tr>\n",
       "    <tr>\n",
       "      <th>34995</th>\n",
       "      <td>1812930</td>\n",
       "      <td>Santhai</td>\n",
       "    </tr>\n",
       "    <tr>\n",
       "      <th>34996</th>\n",
       "      <td>1814060</td>\n",
       "      <td>Virus at Home</td>\n",
       "    </tr>\n",
       "    <tr>\n",
       "      <th>34997</th>\n",
       "      <td>1816650</td>\n",
       "      <td>Nelson and the Magic Cauldron: The Journey</td>\n",
       "    </tr>\n",
       "    <tr>\n",
       "      <th>34998</th>\n",
       "      <td>1828900</td>\n",
       "      <td>Stickit</td>\n",
       "    </tr>\n",
       "    <tr>\n",
       "      <th>34999</th>\n",
       "      <td>1835060</td>\n",
       "      <td>Christmas Celebration With Sakuya Izayoi</td>\n",
       "    </tr>\n",
       "  </tbody>\n",
       "</table>\n",
       "<p>35000 rows × 2 columns</p>\n",
       "</div>"
      ],
      "text/plain": [
       "         appid                                        name\n",
       "0           10                              Counter-Strike\n",
       "1           20                       Team Fortress Classic\n",
       "2           30                               Day of Defeat\n",
       "3           40                          Deathmatch Classic\n",
       "4           50                   Half-Life: Opposing Force\n",
       "...        ...                                         ...\n",
       "34995  1812930                                     Santhai\n",
       "34996  1814060                               Virus at Home\n",
       "34997  1816650  Nelson and the Magic Cauldron: The Journey\n",
       "34998  1828900                                     Stickit\n",
       "34999  1835060    Christmas Celebration With Sakuya Izayoi\n",
       "\n",
       "[35000 rows x 2 columns]"
      ]
     },
     "execution_count": 21,
     "metadata": {},
     "output_type": "execute_result"
    }
   ],
   "source": [
    "games_list"
   ]
  },
  {
   "cell_type": "code",
   "execution_count": null,
   "id": "a408857c",
   "metadata": {},
   "outputs": [],
   "source": [
    "url = \"https://steamspy.com/api.php?request=all&page=\"+i\n",
    "\n",
    "\n",
    "# request 'all' from steam spy and parse into dataframe\n",
    "json_data = get_request(url, parameters=parameters)\n",
    "steam_spy_all = pd.DataFrame.from_dict(json_data, orient='index')\n",
    "\n",
    "# # generate sorted app_list from steamspy data\n",
    "app_list = steam_spy_all[['appid', 'name']].sort_values('appid').reset_index(drop=True)\n",
    "\n",
    "# # export disabled to keep consistency across download sessions\n",
    "# app_list.to_csv('app_list.csv', index=False)\n",
    "\n",
    "# # instead read from stored csv\n",
    "app_list = pd.read_csv('app_list.csv')\n",
    "\n",
    "# # display first few rows\n",
    "app_list.head()"
   ]
  }
 ],
 "metadata": {
  "kernelspec": {
   "display_name": "Python 3 (ipykernel)",
   "language": "python",
   "name": "python3"
  },
  "language_info": {
   "codemirror_mode": {
    "name": "ipython",
    "version": 3
   },
   "file_extension": ".py",
   "mimetype": "text/x-python",
   "name": "python",
   "nbconvert_exporter": "python",
   "pygments_lexer": "ipython3",
   "version": "3.9.7"
  }
 },
 "nbformat": 4,
 "nbformat_minor": 5
}
