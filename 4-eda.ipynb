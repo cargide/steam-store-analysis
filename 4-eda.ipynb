{
 "cells": [
  {
   "cell_type": "code",
   "execution_count": 1,
   "id": "9e08b1a9",
   "metadata": {},
   "outputs": [],
   "source": [
    "# standard library imports\n",
    "import csv\n",
    "import datetime as dt\n",
    "import json\n",
    "import os\n",
    "import statistics\n",
    "import time\n",
    "\n",
    "# third-party imports\n",
    "import numpy as np\n",
    "import pandas as pd\n",
    "pd.set_option(\"max_columns\", 100)\n",
    "\n",
    "# plotting\n",
    "import seaborn as sns\n",
    "import matplotlib.pyplot as plt\n",
    "from matplotlib.pyplot import figure"
   ]
  },
  {
   "cell_type": "code",
   "execution_count": 2,
   "id": "b84b3cab",
   "metadata": {
    "scrolled": true
   },
   "outputs": [
    {
     "name": "stderr",
     "output_type": "stream",
     "text": [
      "C:\\Users\\carlo\\anaconda3\\lib\\site-packages\\IPython\\core\\interactiveshell.py:3444: DtypeWarning: Columns (1,13,14,15) have mixed types.Specify dtype option on import or set low_memory=False.\n",
      "  exec(code_obj, self.user_global_ns, self.user_ns)\n"
     ]
    }
   ],
   "source": [
    "steam_data = pd.read_csv('data/steam_processed.csv')"
   ]
  },
  {
   "cell_type": "markdown",
   "id": "deebce1c",
   "metadata": {},
   "source": [
    "# Exploratory Data Analysis\n",
    "So far I have been \"blindly\" cleaning the data I have located without any insight on it.  \n",
    "Time to change that."
   ]
  },
  {
   "cell_type": "code",
   "execution_count": 8,
   "id": "df0cb611",
   "metadata": {},
   "outputs": [
    {
     "name": "stdout",
     "output_type": "stream",
     "text": [
      "<class 'pandas.core.frame.DataFrame'>\n",
      "RangeIndex: 33638 entries, 0 to 33637\n",
      "Data columns (total 20 columns):\n",
      " #   Column              Non-Null Count  Dtype  \n",
      "---  ------              --------------  -----  \n",
      " 0   name                33636 non-null  object \n",
      " 1   is_free             33636 non-null  object \n",
      " 2   controller_support  33636 non-null  float64\n",
      " 3   dlc                 33636 non-null  float64\n",
      " 4   developers          33636 non-null  object \n",
      " 5   publishers          33636 non-null  object \n",
      " 6   demos               33636 non-null  float64\n",
      " 7   appid               33636 non-null  float64\n",
      " 8   positive            33636 non-null  float64\n",
      " 9   negative            33636 non-null  float64\n",
      " 10  owners              33636 non-null  object \n",
      " 11  price               33636 non-null  float64\n",
      " 12  initialprice        33636 non-null  float64\n",
      " 13  windows             33636 non-null  object \n",
      " 14  mac                 33636 non-null  object \n",
      " 15  linux               33636 non-null  object \n",
      " 16  release             33585 non-null  object \n",
      " 17  genre1              33636 non-null  object \n",
      " 18  genre2              33636 non-null  object \n",
      " 19  genre3              33636 non-null  object \n",
      "dtypes: float64(8), object(12)\n",
      "memory usage: 5.1+ MB\n"
     ]
    }
   ],
   "source": [
    "steam_data.info()"
   ]
  },
  {
   "cell_type": "markdown",
   "id": "40dfc3e0",
   "metadata": {},
   "source": [
    "This dataset has a lot of object columns, but all of them are either descriptors or True/False columns.  \n",
    "There is actually one important column that may not make sense as object, and that is `owners`:"
   ]
  },
  {
   "cell_type": "code",
   "execution_count": 4,
   "id": "9687140b",
   "metadata": {},
   "outputs": [
    {
     "data": {
      "text/plain": [
       "0 .. 20,000                   18269\n",
       "20,000 .. 50,000               6199\n",
       "50,000 .. 100,000              3155\n",
       "100,000 .. 200,000             2233\n",
       "200,000 .. 500,000             1985\n",
       "500,000 .. 1,000,000            861\n",
       "1,000,000 .. 2,000,000          486\n",
       "2,000,000 .. 5,000,000          305\n",
       "5,000,000 .. 10,000,000          81\n",
       "10,000,000 .. 20,000,000         41\n",
       "20,000,000 .. 50,000,000         16\n",
       "50,000,000 .. 100,000,000         4\n",
       "100,000,000 .. 200,000,000        1\n",
       "Name: owners, dtype: int64"
      ]
     },
     "execution_count": 4,
     "metadata": {},
     "output_type": "execute_result"
    }
   ],
   "source": [
    "steam_data.owners.value_counts()"
   ]
  },
  {
   "cell_type": "markdown",
   "id": "982d7296",
   "metadata": {},
   "source": [
    "This column shows the amount of users using ranges, as the actual number is not public anymore.  \n",
    "Perhaps, that block of numbers explain little and bad, so I will try to make it more explicit:"
   ]
  },
  {
   "cell_type": "code",
   "execution_count": 5,
   "id": "275f0316",
   "metadata": {},
   "outputs": [],
   "source": [
    "steam_data.price = steam_data.price/100"
   ]
  },
  {
   "cell_type": "code",
   "execution_count": 6,
   "id": "d5c94c46",
   "metadata": {},
   "outputs": [
    {
     "data": {
      "text/plain": [
       "0         9.99\n",
       "1         4.99\n",
       "2         4.99\n",
       "3         4.99\n",
       "4         4.99\n",
       "         ...  \n",
       "33633     9.99\n",
       "33634     1.99\n",
       "33635    14.99\n",
       "33636     4.99\n",
       "33637     3.99\n",
       "Name: price, Length: 33638, dtype: float64"
      ]
     },
     "execution_count": 6,
     "metadata": {},
     "output_type": "execute_result"
    }
   ],
   "source": [
    "steam_data.price"
   ]
  },
  {
   "cell_type": "code",
   "execution_count": 7,
   "id": "88c129a4",
   "metadata": {
    "scrolled": true
   },
   "outputs": [
    {
     "data": {
      "image/png": "[encoded data removed]",
      "text/plain": [
       "<Figure size 360x360 with 1 Axes>"
      ]
     },
     "metadata": {
      "needs_background": "light"
     },
     "output_type": "display_data"
    }
   ],
   "source": [
    "sns.displot(x='price', data=steam_data, kind='kde')\n",
    "plt.show()"
   ]
  }
 ],
 "metadata": {
  "kernelspec": {
   "display_name": "Python 3 (ipykernel)",
   "language": "python",
   "name": "python3"
  },
  "language_info": {
   "codemirror_mode": {
    "name": "ipython",
    "version": 3
   },
   "file_extension": ".py",
   "mimetype": "text/x-python",
   "name": "python",
   "nbconvert_exporter": "python",
   "pygments_lexer": "ipython3",
   "version": "3.9.7"
  }
 },
 "nbformat": 4,
 "nbformat_minor": 5
}
