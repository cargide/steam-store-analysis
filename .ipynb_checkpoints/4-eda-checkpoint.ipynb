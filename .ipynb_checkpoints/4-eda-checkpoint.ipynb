{
 "cells": [
  {
   "cell_type": "code",
   "execution_count": 3,
   "id": "9e08b1a9",
   "metadata": {},
   "outputs": [],
   "source": [
    "# standard library imports\n",
    "import csv\n",
    "import datetime as dt\n",
    "import json\n",
    "import os\n",
    "import statistics\n",
    "import time\n",
    "\n",
    "# third-party imports\n",
    "import numpy as np\n",
    "import pandas as pd\n",
    "pd.set_option(\"max_columns\", 100)"
   ]
  },
  {
   "cell_type": "code",
   "execution_count": 7,
   "id": "b84b3cab",
   "metadata": {
    "scrolled": true
   },
   "outputs": [
    {
     "name": "stderr",
     "output_type": "stream",
     "text": [
      "C:\\Users\\carlo\\anaconda3\\lib\\site-packages\\IPython\\core\\interactiveshell.py:3444: DtypeWarning: Columns (1,15,16,17) have mixed types.Specify dtype option on import or set low_memory=False.\n",
      "  exec(code_obj, self.user_global_ns, self.user_ns)\n"
     ]
    }
   ],
   "source": [
    "steam_data = pd.read_csv('data/steam_processed.csv')"
   ]
  },
  {
   "cell_type": "markdown",
   "id": "16d6e69f",
   "metadata": {},
   "source": [
    "# Exploratory Data Analysis\n",
    "So far I have been \"blindly\" cleaning the data I have located without any insight on it.  \n",
    "Time to change that."
   ]
  },
  {
   "cell_type": "code",
   "execution_count": 8,
   "id": "c770b43c",
   "metadata": {},
   "outputs": [
    {
     "name": "stdout",
     "output_type": "stream",
     "text": [
      "<class 'pandas.core.frame.DataFrame'>\n",
      "RangeIndex: 33638 entries, 0 to 33637\n",
      "Data columns (total 22 columns):\n",
      " #   Column              Non-Null Count  Dtype  \n",
      "---  ------              --------------  -----  \n",
      " 0   name                33636 non-null  object \n",
      " 1   is_free             33636 non-null  object \n",
      " 2   controller_support  33636 non-null  float64\n",
      " 3   dlc                 33636 non-null  float64\n",
      " 4   developers          33636 non-null  object \n",
      " 5   publishers          33636 non-null  object \n",
      " 6   demos               33636 non-null  float64\n",
      " 7   platforms           33636 non-null  object \n",
      " 8   appid               33636 non-null  float64\n",
      " 9   positive            33636 non-null  float64\n",
      " 10  negative            33636 non-null  float64\n",
      " 11  owners              33636 non-null  object \n",
      " 12  price               33636 non-null  float64\n",
      " 13  initialprice        33636 non-null  float64\n",
      " 14  genre               33636 non-null  object \n",
      " 15  windows             33636 non-null  object \n",
      " 16  mac                 33636 non-null  object \n",
      " 17  linux               33636 non-null  object \n",
      " 18  release             33585 non-null  object \n",
      " 19  genre1              33636 non-null  object \n",
      " 20  genre2              33636 non-null  object \n",
      " 21  genre3              33636 non-null  object \n",
      "dtypes: float64(8), object(14)\n",
      "memory usage: 5.6+ MB\n"
     ]
    }
   ],
   "source": [
    "steam_data.info()"
   ]
  },
  {
   "cell_type": "markdown",
   "id": "d575b9b3",
   "metadata": {},
   "source": [
    "This dataset has a lot of object columns, but all of them are either descriptors or True/False columns.  \n",
    "There is actually one important column that may not make sense as object, and that is `owners`:"
   ]
  },
  {
   "cell_type": "code",
   "execution_count": null,
   "id": "5088842c",
   "metadata": {},
   "outputs": [],
   "source": []
  }
 ],
 "metadata": {
  "kernelspec": {
   "display_name": "Python 3 (ipykernel)",
   "language": "python",
   "name": "python3"
  },
  "language_info": {
   "codemirror_mode": {
    "name": "ipython",
    "version": 3
   },
   "file_extension": ".py",
   "mimetype": "text/x-python",
   "name": "python",
   "nbconvert_exporter": "python",
   "pygments_lexer": "ipython3",
   "version": "3.9.7"
  }
 },
 "nbformat": 4,
 "nbformat_minor": 5
}
