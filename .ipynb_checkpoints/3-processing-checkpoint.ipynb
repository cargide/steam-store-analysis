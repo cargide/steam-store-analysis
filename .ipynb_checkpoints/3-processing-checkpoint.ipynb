{
 "cells": [
  {
   "cell_type": "markdown",
   "id": "e2b0444b",
   "metadata": {},
   "source": [
    "# Processing the data"
   ]
  },
  {
   "cell_type": "code",
   "execution_count": 18,
   "id": "40c915e0",
   "metadata": {},
   "outputs": [],
   "source": [
    "# standard library imports\n",
    "import csv\n",
    "import datetime as dt\n",
    "import json\n",
    "import os\n",
    "import statistics\n",
    "import time\n",
    "\n",
    "# third-party imports\n",
    "import numpy as np\n",
    "import pandas as pd\n",
    "pd.set_option(\"max_columns\", 100)"
   ]
  },
  {
   "cell_type": "markdown",
   "id": "0a9ca95f",
   "metadata": {},
   "source": [
    "## 1) Outliers\n",
    "So far I have cleaned the empty fields, but there are still some fields with wrong values or that presents too strong biases."
   ]
  },
  {
   "cell_type": "code",
   "execution_count": 19,
   "id": "73b65122",
   "metadata": {},
   "outputs": [
    {
     "name": "stderr",
     "output_type": "stream",
     "text": [
      "C:\\Users\\carlo\\anaconda3\\lib\\site-packages\\IPython\\core\\interactiveshell.py:3444: DtypeWarning: Columns (1) have mixed types.Specify dtype option on import or set low_memory=False.\n",
      "  exec(code_obj, self.user_global_ns, self.user_ns)\n"
     ]
    }
   ],
   "source": [
    "steam_clean = pd.read_csv('data/steam_clean.csv')"
   ]
  },
  {
   "cell_type": "code",
   "execution_count": 20,
   "id": "37e26894",
   "metadata": {},
   "outputs": [],
   "source": [
    "def number_uniques(table):\n",
    "    for col in table.columns:\n",
    "        n = len(pd.unique(table[col]))\n",
    "        \n",
    "        print('Column', col, 'has', n, 'different values.')"
   ]
  },
  {
   "cell_type": "code",
   "execution_count": 21,
   "id": "b95f1cd2",
   "metadata": {},
   "outputs": [
    {
     "name": "stdout",
     "output_type": "stream",
     "text": [
      "Column type has 2 different values.\n",
      "Column required_age has 33 different values.\n",
      "Column is_free has 2 different values.\n",
      "Column controller_support has 2 different values.\n",
      "Column dlc has 2 different values.\n",
      "Column developers has 21620 different values.\n",
      "Column publishers has 17999 different values.\n",
      "Column demos has 2 different values.\n",
      "Column platforms has 7 different values.\n",
      "Column genres has 1720 different values.\n",
      "Column recommendations has 3683 different values.\n",
      "Column release_date has 4082 different values.\n",
      "Column appid has 33571 different values.\n",
      "Column positive has 4265 different values.\n",
      "Column negative has 2125 different values.\n",
      "Column userscore has 18 different values.\n",
      "Column owners has 13 different values.\n",
      "Column average_forever has 2007 different values.\n",
      "Column average_2weeks has 574 different values.\n",
      "Column median_forever has 1813 different values.\n",
      "Column median_2weeks has 567 different values.\n",
      "Column price has 260 different values.\n",
      "Column initialprice has 140 different values.\n",
      "Column discount has 52 different values.\n",
      "Column ccu has 1194 different values.\n",
      "Column tags has 32523 different values.\n"
     ]
    }
   ],
   "source": [
    "number_uniques(steam_clean)"
   ]
  },
  {
   "cell_type": "code",
   "execution_count": 22,
   "id": "d1095dc1",
   "metadata": {},
   "outputs": [
    {
     "data": {
      "text/plain": [
       "type                   object\n",
       "required_age           object\n",
       "is_free                  bool\n",
       "controller_support      int64\n",
       "dlc                     int64\n",
       "developers             object\n",
       "publishers             object\n",
       "demos                   int64\n",
       "platforms              object\n",
       "genres                 object\n",
       "recommendations        object\n",
       "release_date           object\n",
       "appid                   int64\n",
       "positive                int64\n",
       "negative                int64\n",
       "userscore               int64\n",
       "owners                 object\n",
       "average_forever         int64\n",
       "average_2weeks          int64\n",
       "median_forever          int64\n",
       "median_2weeks           int64\n",
       "price                 float64\n",
       "initialprice          float64\n",
       "discount              float64\n",
       "ccu                     int64\n",
       "tags                   object\n",
       "dtype: object"
      ]
     },
     "execution_count": 22,
     "metadata": {},
     "output_type": "execute_result"
    }
   ],
   "source": [
    "steam_clean.dtypes"
   ]
  },
  {
   "cell_type": "markdown",
   "id": "81483efa",
   "metadata": {},
   "source": [
    "With that overview of the unique values, I need to understand them:"
   ]
  },
  {
   "cell_type": "markdown",
   "id": "2aa45d53",
   "metadata": {},
   "source": [
    "**Types**"
   ]
  },
  {
   "cell_type": "code",
   "execution_count": 23,
   "id": "d993a09b",
   "metadata": {
    "scrolled": true
   },
   "outputs": [
    {
     "data": {
      "text/plain": [
       "game        33637\n",
       "hardware        1\n",
       "Name: type, dtype: int64"
      ]
     },
     "execution_count": 23,
     "metadata": {},
     "output_type": "execute_result"
    }
   ],
   "source": [
    "steam_clean.type.value_counts()"
   ]
  },
  {
   "cell_type": "markdown",
   "id": "11a16238",
   "metadata": {},
   "source": [
    "There is only one field with hardware. That means that line can be dropped."
   ]
  },
  {
   "cell_type": "code",
   "execution_count": 24,
   "id": "6683a6b3",
   "metadata": {},
   "outputs": [],
   "source": [
    "steam_clean = steam_clean.loc[steam_clean[\"type\"] != 'hardware']"
   ]
  },
  {
   "cell_type": "code",
   "execution_count": 25,
   "id": "b0fe05e3",
   "metadata": {},
   "outputs": [
    {
     "data": {
      "text/plain": [
       "game    33637\n",
       "Name: type, dtype: int64"
      ]
     },
     "execution_count": 25,
     "metadata": {},
     "output_type": "execute_result"
    }
   ],
   "source": [
    "steam_clean.type.value_counts()"
   ]
  },
  {
   "cell_type": "markdown",
   "id": "c8bdbe75",
   "metadata": {},
   "source": [
    "**Age**"
   ]
  },
  {
   "cell_type": "code",
   "execution_count": 26,
   "id": "b88847ac",
   "metadata": {
    "scrolled": true
   },
   "outputs": [
    {
     "data": {
      "text/plain": [
       "0                                                                             16801\n",
       "0.0                                                                           15247\n",
       "0                                                                               860\n",
       "18                                                                              271\n",
       "16                                                                              152\n",
       "17                                                                               61\n",
       "12                                                                               56\n",
       "18.0                                                                             49\n",
       "16.0                                                                             32\n",
       "15                                                                               21\n",
       "12.0                                                                             12\n",
       "13                                                                               10\n",
       "17.0                                                                             10\n",
       "7                                                                                 8\n",
       "13.0                                                                              8\n",
       "7.0                                                                               5\n",
       "3                                                                                 5\n",
       "14                                                                                4\n",
       "10                                                                                4\n",
       "16                                                                                3\n",
       "18                                                                                3\n",
       "12                                                                                2\n",
       "11                                                                                2\n",
       "3.0                                                                               2\n",
       "10.0                                                                              1\n",
       "15.0                                                                              1\n",
       "14.0                                                                              1\n",
       "6                                                                                 1\n",
       "javascript:ToggleCheckbox('checkbox_app_game_ratings_pegi_use_age_gate_');        1\n",
       "16+                                                                               1\n",
       "20                                                                                1\n",
       "5                                                                                 1\n",
       "17                                                                                1\n",
       "Name: required_age, dtype: int64"
      ]
     },
     "execution_count": 26,
     "metadata": {},
     "output_type": "execute_result"
    }
   ],
   "source": [
    "steam_clean.required_age.value_counts()"
   ]
  },
  {
   "cell_type": "markdown",
   "id": "5fbf3351",
   "metadata": {},
   "source": [
    "This field presents a lot of issues from the get go, the main ones being the two string fields: `16+` and `javascript`.  \n",
    "Once I fix them, I can turn everithing into integers.\n",
    "First I drop the javascript line as it has no numerical correspondence."
   ]
  },
  {
   "cell_type": "code",
   "execution_count": 27,
   "id": "d1ed9750",
   "metadata": {},
   "outputs": [],
   "source": [
    "steam_clean = steam_clean.loc[steam_clean[\"required_age\"] != \"javascript:ToggleCheckbox('checkbox_app_game_ratings_pegi_use_age_gate_');\"]"
   ]
  },
  {
   "cell_type": "code",
   "execution_count": null,
   "id": "9519b49a",
   "metadata": {},
   "outputs": [],
   "source": []
  },
  {
   "cell_type": "code",
   "execution_count": 28,
   "id": "34c90b42",
   "metadata": {},
   "outputs": [
    {
     "data": {
      "text/plain": [
       "0       16801\n",
       "0.0     15247\n",
       "0         860\n",
       "18        271\n",
       "16        152\n",
       "17         61\n",
       "12         56\n",
       "18.0       49\n",
       "16.0       32\n",
       "15         21\n",
       "12.0       12\n",
       "13         10\n",
       "17.0       10\n",
       "7           8\n",
       "13.0        8\n",
       "3           5\n",
       "7.0         5\n",
       "10          4\n",
       "14          4\n",
       "16          3\n",
       "18          3\n",
       "12          2\n",
       "3.0         2\n",
       "11          2\n",
       "15.0        1\n",
       "14.0        1\n",
       "6           1\n",
       "10.0        1\n",
       "16+         1\n",
       "5           1\n",
       "20          1\n",
       "17          1\n",
       "Name: required_age, dtype: int64"
      ]
     },
     "execution_count": 28,
     "metadata": {},
     "output_type": "execute_result"
    }
   ],
   "source": [
    "steam_clean.required_age.value_counts()"
   ]
  },
  {
   "cell_type": "code",
   "execution_count": null,
   "id": "dee32750",
   "metadata": {},
   "outputs": [],
   "source": []
  },
  {
   "cell_type": "code",
   "execution_count": null,
   "id": "182826e5",
   "metadata": {},
   "outputs": [],
   "source": []
  },
  {
   "cell_type": "code",
   "execution_count": null,
   "id": "9d942a14",
   "metadata": {},
   "outputs": [],
   "source": [
    "data['userscore'].value_counts()"
   ]
  },
  {
   "cell_type": "code",
   "execution_count": null,
   "id": "e2f7cb0b",
   "metadata": {},
   "outputs": [],
   "source": [
    "data['required_age'].value_counts(dropna=False)\n",
    "## procesar"
   ]
  },
  {
   "cell_type": "code",
   "execution_count": null,
   "id": "91f1117c",
   "metadata": {},
   "outputs": [],
   "source": [
    "data['is_free'].value_counts(dropna=False)\n",
    "data['is_free'] = np.where(data['is_free'] == True, 1, 0)\n",
    "#procesar"
   ]
  },
  {
   "cell_type": "code",
   "execution_count": null,
   "id": "e7d275c1",
   "metadata": {},
   "outputs": [],
   "source": [
    "data['platforms'].value_counts(dropna=False)\n",
    "#procesar"
   ]
  },
  {
   "cell_type": "code",
   "execution_count": null,
   "id": "44cd6aac",
   "metadata": {},
   "outputs": [],
   "source": []
  },
  {
   "cell_type": "code",
   "execution_count": null,
   "id": "e6505005",
   "metadata": {},
   "outputs": [],
   "source": [
    "import ast\n",
    "\n",
    "res = ast.literal_eval(data['release_date'][0])\n",
    "res"
   ]
  },
  {
   "cell_type": "code",
   "execution_count": null,
   "id": "4d53a4a0",
   "metadata": {},
   "outputs": [],
   "source": [
    "type(res)"
   ]
  },
  {
   "cell_type": "code",
   "execution_count": null,
   "id": "976c3349",
   "metadata": {},
   "outputs": [],
   "source": [
    "df = test_data['release_date'].map(ast.literal_eval)"
   ]
  },
  {
   "cell_type": "code",
   "execution_count": null,
   "id": "d3fe033f",
   "metadata": {},
   "outputs": [],
   "source": [
    "df"
   ]
  },
  {
   "cell_type": "code",
   "execution_count": null,
   "id": "2eb3bbb0",
   "metadata": {},
   "outputs": [],
   "source": [
    "type(test_data['release_date'][0])"
   ]
  },
  {
   "cell_type": "code",
   "execution_count": null,
   "id": "098d23d2",
   "metadata": {},
   "outputs": [],
   "source": [
    "pd.DataFrame.from_dict(test_data['release_date'], orient='tight')"
   ]
  },
  {
   "cell_type": "code",
   "execution_count": null,
   "id": "e5437478",
   "metadata": {},
   "outputs": [],
   "source": [
    "df.apply(pd.Series)"
   ]
  }
 ],
 "metadata": {
  "kernelspec": {
   "display_name": "Python 3 (ipykernel)",
   "language": "python",
   "name": "python3"
  },
  "language_info": {
   "codemirror_mode": {
    "name": "ipython",
    "version": 3
   },
   "file_extension": ".py",
   "mimetype": "text/x-python",
   "name": "python",
   "nbconvert_exporter": "python",
   "pygments_lexer": "ipython3",
   "version": "3.9.7"
  }
 },
 "nbformat": 4,
 "nbformat_minor": 5
}
